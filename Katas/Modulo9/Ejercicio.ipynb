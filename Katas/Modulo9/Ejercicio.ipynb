{
 "cells": [
  {
   "cell_type": "markdown",
   "metadata": {},
   "source": [
    "### Ejercicio 1: Trabajar con argumentos en funciones\n"
   ]
  },
  {
   "cell_type": "code",
   "execution_count": 13,
   "metadata": {},
   "outputs": [],
   "source": [
    "def tanquescomb(tanque1, tanque2, tanque3):\n",
    "    return f'El promedio de combustible en los tanques es de: {(tanque1+tanque2+tanque3)/3}'"
   ]
  },
  {
   "cell_type": "code",
   "execution_count": 15,
   "metadata": {},
   "outputs": [
    {
     "name": "stdout",
     "output_type": "stream",
     "text": [
      "El promedio de combustible en los tanques es de: 41.333333333333336\n"
     ]
    }
   ],
   "source": [
    "print(tanquescomb(50, 64, 10))"
   ]
  },
  {
   "cell_type": "code",
   "execution_count": 3,
   "metadata": {},
   "outputs": [
    {
     "data": {
      "text/plain": [
       "'El promedio de combustible de los tanque ingresados es de: 37.666666666666664'"
      ]
     },
     "execution_count": 3,
     "metadata": {},
     "output_type": "execute_result"
    }
   ],
   "source": [
    "def promedio(valores):\n",
    "    suma = sum(valores)\n",
    "    cantidad = len(valores)\n",
    "    return f'El promedio de combustible de los tanque ingresados es de: {suma/cantidad}'\n",
    "promedio([50, 45, 18])"
   ]
  },
  {
   "cell_type": "code",
   "execution_count": 5,
   "metadata": {},
   "outputs": [
    {
     "name": "stdout",
     "output_type": "stream",
     "text": [
      "El promedio de combustible en los tanques es de: El promedio de combustible de los tanque ingresados es de: 41.333333333333336\n"
     ]
    }
   ],
   "source": [
    "def tanquescomb(tanque1, tanque2, tanque3):\n",
    "    return f'El promedio de combustible en los tanques es de: {promedio([tanque1, tanque2, tanque3])}'\n",
    "print(tanquescomb(50, 64, 10))"
   ]
  },
  {
   "cell_type": "markdown",
   "metadata": {},
   "source": [
    "## Ejercicio 2: Trabajo con argumentos de palabra clave"
   ]
  },
  {
   "cell_type": "code",
   "execution_count": 10,
   "metadata": {},
   "outputs": [
    {
     "name": "stdout",
     "output_type": "stream",
     "text": [
      "Reporte de la misión a: Marte\n",
      "    Tiempo de vuelo total: 80 minutos\n",
      "    Combustible: 10000 galones\n",
      "    Combustible de Reserva: 40000 galones\n"
     ]
    }
   ],
   "source": [
    "def reporte_mision(destination, launchtime, flighttime, extfueltank, intfueltank):\n",
    "    return f\"\"\"Reporte de la misión a: {destination}\n",
    "    Tiempo de vuelo total: {flighttime+launchtime} minutos\n",
    "    Combustible: {intfueltank} galones\n",
    "    Combustible de Reserva: {extfueltank} galones\"\"\"\n",
    "print(reporte_mision('Marte', 20, 60, 40000, 10000))"
   ]
  },
  {
   "cell_type": "code",
   "execution_count": 16,
   "metadata": {},
   "outputs": [
    {
     "name": "stdout",
     "output_type": "stream",
     "text": [
      "Reporte de la misión a: Marte\n",
      "    Tiempo de vuelo total: 80 minutos\n",
      "    Combustible total restante: 50000 galonesTanque1 tanque => 40000 galones restantes\n",
      "tanque2 tanque => 10000 galones restantes\n",
      "\n"
     ]
    }
   ],
   "source": [
    "def reporte_mision(destination, *flighttime, **fuel):\n",
    "    reporte = f\"\"\"Reporte de la misión a: {destination}\n",
    "    Tiempo de vuelo total: {sum(flighttime)} minutos\n",
    "    Combustible total restante: {sum(fuel.values())} galones\"\"\"\n",
    "    for tanques, galones in fuel.items():\n",
    "        reporte += f'{tanques} tanque => {galones} galones restantes\\n'\n",
    "    return reporte\n",
    "print(reporte_mision('Marte', 20, 60, Tanque1=40000, tanque2=10000))"
   ]
  },
  {
   "cell_type": "code",
   "execution_count": null,
   "metadata": {},
   "outputs": [],
   "source": []
  }
 ],
 "metadata": {
  "interpreter": {
   "hash": "e7370f93d1d0cde622a1f8e1c04877d8463912d04d973331ad4851f04de6915a"
  },
  "kernelspec": {
   "display_name": "Python 3.9.9 64-bit",
   "language": "python",
   "name": "python3"
  },
  "language_info": {
   "codemirror_mode": {
    "name": "ipython",
    "version": 3
   },
   "file_extension": ".py",
   "mimetype": "text/x-python",
   "name": "python",
   "nbconvert_exporter": "python",
   "pygments_lexer": "ipython3",
   "version": "3.9.9"
  },
  "orig_nbformat": 4
 },
 "nbformat": 4,
 "nbformat_minor": 2
}
