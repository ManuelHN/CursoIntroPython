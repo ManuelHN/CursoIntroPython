{
 "cells": [
  {
   "cell_type": "markdown",
   "metadata": {},
   "source": [
    "# Prácticas del Modulo 3"
   ]
  },
  {
   "cell_type": "code",
   "execution_count": null,
   "metadata": {},
   "outputs": [],
   "source": [
    "# Tip de práctica 1: Intenta ejecutarlo en un notebook.\n",
    "print('Este programa comparará tres valores que introduzcas y te mostrará el mas grande')\n",
    "a = input('Introduce un valor A')\n",
    "b = input('Introduce un valor B')\n",
    "c = input('introduce un valor C')\n",
    "\n",
    "# test expression / expresión de prueba\n",
    "if a == b and b > c:\n",
    "    print('A y B son iguales y mayores que C,', a)\n",
    "elif a == c and a > b:\n",
    "    print('A y C son iguales y mayores que B,', a)\n",
    "elif c == b and b > a:\n",
    "    print('B y C son iguales y mayores que A,', b)\n",
    "elif a == b and b < c:\n",
    "    print('C es mayor que A y B que son iguales,', c)\n",
    "elif a == c and a < b:\n",
    "    print('B es mayor que A y C que son iguales,', b)\n",
    "elif c == b and b < a:\n",
    "    print('A es mayor que B y C que son iguales,', a)\n",
    "elif a > b and a > c:\n",
    "    print('A es mayor que B y C,', a)\n",
    "elif a < c and b < c:\n",
    "    print('C es mayor que A y B,', c)\n",
    "elif a < b and c < b:\n",
    "    print('B es mayor que A y C,', b)\n",
    "else:\n",
    "    print('A es igual que B y C', a)"
   ]
  }
 ],
 "metadata": {
  "interpreter": {
   "hash": "e7370f93d1d0cde622a1f8e1c04877d8463912d04d973331ad4851f04de6915a"
  },
  "kernelspec": {
   "display_name": "Python 3.9.9 64-bit",
   "language": "python",
   "name": "python3"
  },
  "language_info": {
   "codemirror_mode": {
    "name": "ipython",
    "version": 3
   },
   "file_extension": ".py",
   "mimetype": "text/x-python",
   "name": "python",
   "nbconvert_exporter": "python",
   "pygments_lexer": "ipython3",
   "version": "3.9.9"
  },
  "orig_nbformat": 4
 },
 "nbformat": 4,
 "nbformat_minor": 2
}
