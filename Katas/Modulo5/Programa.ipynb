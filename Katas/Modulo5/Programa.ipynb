{
 "cells": [
  {
   "cell_type": "markdown",
   "metadata": {},
   "source": [
    "## Programa para calcular la distancia entre planetas"
   ]
  },
  {
   "cell_type": "code",
   "execution_count": 14,
   "metadata": {},
   "outputs": [],
   "source": [
    "# Crear variables para almacenar las dos distancias\n",
    "# ¡Asegúrate de quitar las comas!\n",
    "tierra = \"149.579.870\"\n",
    "jupiter = \"778.547.200\"\n",
    "\n",
    "tierra = int(tierra.replace(\",\", \"\").replace(\".\", \"\").replace(\" \", \"\"))\n",
    "jupiter = int(jupiter.replace(\",\", \"\").replace(\".\", \"\").replace(\" \", \"\"))\n"
   ]
  },
  {
   "cell_type": "code",
   "execution_count": 16,
   "metadata": {},
   "outputs": [
    {
     "name": "stdout",
     "output_type": "stream",
     "text": [
      "la distancia entre la Tierra y Júpiter es de 628967330 KM\n",
      "la distancia entre la Tierra y Júpiter es de 390588711.93 millas\n"
     ]
    }
   ],
   "source": [
    "## Calcular la distancia entre planetas\n",
    "distanciakm = tierra - jupiter\n",
    "distanciami = (tierra - jupiter)*0.621\n",
    "\n",
    "print(f\"La distancia entre la Tierra y Júpiter es de {abs(distanciakm)} KM\")\n",
    "print(f\"La distancia entre la Tierra y Júpiter es de {abs(distanciami)} millas\")"
   ]
  },
  {
   "cell_type": "markdown",
   "metadata": {},
   "source": [
    "## Programa para calcular distancias entre planetas con entrada de usuario"
   ]
  },
  {
   "cell_type": "code",
   "execution_count": 18,
   "metadata": {},
   "outputs": [
    {
     "name": "stdout",
     "output_type": "stream",
     "text": [
      "La distancia entre Marte y Júpiter es de 550700000 KM que equivalen a 341984700.0 millas\n"
     ]
    }
   ],
   "source": [
    "planet1name = input(\"Introduce el nombre del PRINER planeta:\")\n",
    "planet1distance = input(\"Introduce la distancia del PRIMER planeta respecto al sol en KM\")\n",
    "planet2name = input(\"Introduce el nombre del SEGUNDO planeta:\")\n",
    "planet2distance = input(\"Introduce la distancia del SEGUNDO planeta respecto al sol en KM\")\n",
    "\n",
    "planet1distance = int(planet1distance.replace(\",\", \"\").replace(\".\", \"\").replace(\" \", \"\"))\n",
    "planet2distance = int(planet2distance.replace(\",\", \"\").replace(\".\", \"\").replace(\" \", \"\"))\n",
    "\n",
    "## Calcular la distancia entre planetas\n",
    "distanciakm = planet1distance - planet2distance\n",
    "distanciami = (planet1distance - planet2distance)*0.621\n",
    "\n",
    "print(f\"La distancia entre {planet1name} y {planet2name} es de {abs(distanciakm)} KM que equivalen a {abs(distanciami)} millas\")"
   ]
  }
 ],
 "metadata": {
  "interpreter": {
   "hash": "e7370f93d1d0cde622a1f8e1c04877d8463912d04d973331ad4851f04de6915a"
  },
  "kernelspec": {
   "display_name": "Python 3.9.9 64-bit",
   "language": "python",
   "name": "python3"
  },
  "language_info": {
   "codemirror_mode": {
    "name": "ipython",
    "version": 3
   },
   "file_extension": ".py",
   "mimetype": "text/x-python",
   "name": "python",
   "nbconvert_exporter": "python",
   "pygments_lexer": "ipython3",
   "version": "3.9.9"
  },
  "orig_nbformat": 4
 },
 "nbformat": 4,
 "nbformat_minor": 2
}
