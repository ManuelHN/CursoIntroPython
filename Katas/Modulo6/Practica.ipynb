{
 "cells": [
  {
   "cell_type": "markdown",
   "metadata": {},
   "source": [
    "# Ejercicio1: Crear y usar listas de Python\n",
    "## Ejercicio1: Crear y usar listas de Python"
   ]
  },
  {
   "cell_type": "code",
   "execution_count": 1,
   "metadata": {},
   "outputs": [],
   "source": [
    "planets = ['Mercurio', 'Venus', 'Tierra', 'Marte', 'Jupiter', 'Saturno', 'Urano', 'Neptuno']"
   ]
  },
  {
   "cell_type": "code",
   "execution_count": 2,
   "metadata": {},
   "outputs": [
    {
     "name": "stdout",
     "output_type": "stream",
     "text": [
      "Neptuno es el último planeta del sistema solar\n"
     ]
    }
   ],
   "source": [
    "print(f\"{planets[-1]} es el último planeta del sistema solar\")"
   ]
  },
  {
   "cell_type": "code",
   "execution_count": 4,
   "metadata": {},
   "outputs": [
    {
     "name": "stdout",
     "output_type": "stream",
     "text": [
      "Hay 8 planetas en nuestro sistema solar\n"
     ]
    }
   ],
   "source": [
    "nofplanets = len(planets)\n",
    "print(f\"Hay {nofplanets} planetas en nuestro sistema solar\")"
   ]
  },
  {
   "cell_type": "code",
   "execution_count": 5,
   "metadata": {},
   "outputs": [
    {
     "name": "stdout",
     "output_type": "stream",
     "text": [
      "Ahora hay 9 planetas en nuestro sistema solar\n",
      "Y Plutón es el último planeta del sistema solar\n"
     ]
    }
   ],
   "source": [
    "planets.append(\"Plutón\")\n",
    "nofplanets = len(planets)\n",
    "print(f\"Ahora hay {nofplanets} planetas en nuestro sistema solar\")\n",
    "print(f\"Y {planets[-1]} es el último planeta del sistema solar\")"
   ]
  },
  {
   "cell_type": "code",
   "execution_count": 6,
   "metadata": {},
   "outputs": [
    {
     "name": "stdout",
     "output_type": "stream",
     "text": [
      "Ahora hay 8 planetas en nuestro sistema solar\n"
     ]
    }
   ],
   "source": [
    "planets.pop()\n",
    "nofplanets = len(planets)\n",
    "print(f\"Ahora hay {nofplanets} planetas en nuestro sistema solar\")"
   ]
  },
  {
   "cell_type": "code",
   "execution_count": 16,
   "metadata": {},
   "outputs": [
    {
     "name": "stdout",
     "output_type": "stream",
     "text": [
      "Los planetas mas cercanos al Sol que Jupiter:\n",
      "['Mercurio', 'Venus', 'Tierra', 'Marte']\n",
      "Los planetas mas lejanos al Sol que Jupiter:\n",
      "['Saturno', 'Urano', 'Neptuno']\n"
     ]
    }
   ],
   "source": [
    "user_planet = input('Ingresa el Nombre del planeta conla primera letra en Mayúscula')\n",
    "planet_index = planets.index(user_planet)\n",
    "print(f\"Los planetas mas cercanos al Sol que {user_planet}:\")\n",
    "print(planets[0:planet_index])\n",
    "print(f\"Los planetas mas lejanos al Sol que {user_planet}:\")\n",
    "print(planets[planet_index+1:])"
   ]
  },
  {
   "cell_type": "code",
   "execution_count": null,
   "metadata": {},
   "outputs": [],
   "source": []
  }
 ],
 "metadata": {
  "interpreter": {
   "hash": "e7370f93d1d0cde622a1f8e1c04877d8463912d04d973331ad4851f04de6915a"
  },
  "kernelspec": {
   "display_name": "Python 3.9.9 64-bit",
   "language": "python",
   "name": "python3"
  },
  "language_info": {
   "codemirror_mode": {
    "name": "ipython",
    "version": 3
   },
   "file_extension": ".py",
   "mimetype": "text/x-python",
   "name": "python",
   "nbconvert_exporter": "python",
   "pygments_lexer": "ipython3",
   "version": "3.9.9"
  },
  "orig_nbformat": 4
 },
 "nbformat": 4,
 "nbformat_minor": 2
}
