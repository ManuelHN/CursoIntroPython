{
 "cells": [
  {
   "cell_type": "code",
   "execution_count": 3,
   "metadata": {},
   "outputs": [],
   "source": [
    "planets = ['Mercurio', 'Venus', 'Tierra', 'Marte', 'Jupiter', 'Saturno', 'Urano', 'Neptuno']"
   ]
  },
  {
   "cell_type": "code",
   "execution_count": 5,
   "metadata": {},
   "outputs": [
    {
     "name": "stdout",
     "output_type": "stream",
     "text": [
      "Mercurio es el primer planeta de la lista.\n",
      "Venus es el segundo planeta de la lista.\n",
      "Neptuno es el octavo planeta de la lista.\n"
     ]
    }
   ],
   "source": [
    "print(f\"{planets[0]} es el primer planeta de la lista.\")\n",
    "print(f\"{planets[1]} es el segundo planeta de la lista.\")\n",
    "print(f\"{planets[7]} es el octavo planeta de la lista.\")"
   ]
  },
  {
   "cell_type": "code",
   "execution_count": 7,
   "metadata": {},
   "outputs": [
    {
     "name": "stdout",
     "output_type": "stream",
     "text": [
      "Marte es también conocido como el Planeta Rojo\n"
     ]
    }
   ],
   "source": [
    "planets[3] = \"Planeta Rojo\"\n",
    "print(\"Marte es también conocido como el\", planets[3])"
   ]
  },
  {
   "cell_type": "code",
   "execution_count": 9,
   "metadata": {},
   "outputs": [
    {
     "name": "stdout",
     "output_type": "stream",
     "text": [
      "Hay 8 planetas en nuestro sistema solar\n"
     ]
    }
   ],
   "source": [
    "nofplanets = len(planets)\n",
    "print(f\"Hay {nofplanets} planetas en nuestro sistema solar\")"
   ]
  },
  {
   "cell_type": "code",
   "execution_count": 10,
   "metadata": {},
   "outputs": [
    {
     "name": "stdout",
     "output_type": "stream",
     "text": [
      "Ahora hay 9 planetas en nuestro sistema solar\n"
     ]
    }
   ],
   "source": [
    "planets.append(\"Plutón\")\n",
    "nofplanets = len(planets)\n",
    "print(f\"Ahora hay {nofplanets} planetas en nuestro sistema solar\")"
   ]
  },
  {
   "cell_type": "code",
   "execution_count": 12,
   "metadata": {},
   "outputs": [
    {
     "name": "stdout",
     "output_type": "stream",
     "text": [
      "Ahora hay 8 planetas en nuestro sistema solar\n"
     ]
    }
   ],
   "source": [
    "planets.pop()\n",
    "nofplanets = len(planets)\n",
    "print(f\"Ahora hay {nofplanets} planetas en nuestro sistema solar\")"
   ]
  },
  {
   "cell_type": "code",
   "execution_count": 13,
   "metadata": {},
   "outputs": [
    {
     "name": "stdout",
     "output_type": "stream",
     "text": [
      "El primer planeta es Mercurio\n",
      "El último planeta es Neptuno\n",
      "El penúltimo planeta es Urano\n"
     ]
    }
   ],
   "source": [
    "print(\"El primer planeta es\", planets[0])\n",
    "print(\"El último planeta es\", planets[-1])\n",
    "print(\"El penúltimo planeta es\", planets[-2])"
   ]
  },
  {
   "cell_type": "code",
   "execution_count": 14,
   "metadata": {},
   "outputs": [
    {
     "name": "stdout",
     "output_type": "stream",
     "text": [
      "La Tierra es el 3 planeta a partrir del Sol\n"
     ]
    }
   ],
   "source": [
    "earthindex = planets.index(\"Tierra\")\n",
    "print(\"La Tierra es el\", earthindex+1, \"planeta a partrir del Sol\")"
   ]
  },
  {
   "cell_type": "code",
   "execution_count": 21,
   "metadata": {},
   "outputs": [
    {
     "name": "stdout",
     "output_type": "stream",
     "text": [
      "En la tierra un autobús doble pesa 12650KG.\n",
      "\n",
      "En Mercurio el mismo autobús pesaría 4781.7KG.\n",
      "\n",
      "El peso mínimo del autobus en un planeta del sistema solar sería: 4781.7KG\n",
      "\n",
      "El peso máximo del autobús en un planeta del sistema solar sería: 29854.0KG\n",
      "\n"
     ]
    }
   ],
   "source": [
    "gravity_on_planets = [0.378, 0.907, 1, 0.379, 2.36, 0.916, 0.889, 1.12]\n",
    "gravity_on_the_moon = 0.166\n",
    "busweight = 12650\n",
    "print(f\"\"\"En la tierra un autobús doble pesa {busweight}KG.\n",
    "\n",
    "En Mercurio el mismo autobús pesaría {busweight*gravity_on_planets[0]}KG.\n",
    "\n",
    "El peso mínimo del autobus en un planeta del sistema solar sería: {busweight*min(gravity_on_planets)}KG\n",
    "\n",
    "El peso máximo del autobús en un planeta del sistema solar sería: {busweight*max(gravity_on_planets)}KG\n",
    "\"\"\")"
   ]
  },
  {
   "cell_type": "code",
   "execution_count": 26,
   "metadata": {},
   "outputs": [
    {
     "name": "stdout",
     "output_type": "stream",
     "text": [
      "['Mercurio', 'Venus']\n",
      "['Planeta Rojo', 'Jupiter', 'Saturno', 'Urano', 'Neptuno']\n"
     ]
    }
   ],
   "source": [
    "planetsbeforeearth = planets[0:2]\n",
    "planetsafterearth = planets[3:]\n",
    "print(planetsbeforeearth)\n",
    "print(planetsafterearth)"
   ]
  },
  {
   "cell_type": "code",
   "execution_count": 29,
   "metadata": {},
   "outputs": [
    {
     "name": "stdout",
     "output_type": "stream",
     "text": [
      "Las lunas de Júpiter son: ['Metis', 'Adrastea', 'Amalthea', 'Thebe', 'Io', 'Europa', 'Ganymede', 'Callisto']\n"
     ]
    }
   ],
   "source": [
    "amalthea_group = ['Metis', 'Adrastea', 'Amalthea', 'Thebe']\n",
    "galilean_moons = ['Io', 'Europa', 'Ganymede', 'Callisto']\n",
    "jupitermoons = amalthea_group+galilean_moons\n",
    "print(f\"Las lunas de Júpiter son: {jupitermoons}\")"
   ]
  },
  {
   "cell_type": "code",
   "execution_count": 31,
   "metadata": {},
   "outputs": [
    {
     "name": "stdout",
     "output_type": "stream",
     "text": [
      "Las lunas de Júpiter son: ['Adrastea', 'Amalthea', 'Callisto', 'Europa', 'Ganymede', 'Io', 'Metis', 'Thebe']\n"
     ]
    }
   ],
   "source": [
    "jupitermoons.sort()\n",
    "print(f\"Las lunas de Júpiter son: {jupitermoons}\")"
   ]
  },
  {
   "cell_type": "code",
   "execution_count": 32,
   "metadata": {},
   "outputs": [
    {
     "name": "stdout",
     "output_type": "stream",
     "text": [
      "Las lunas de Júpiter son: ['Thebe', 'Metis', 'Io', 'Ganymede', 'Europa', 'Callisto', 'Amalthea', 'Adrastea']\n"
     ]
    }
   ],
   "source": [
    "jupitermoons.sort(reverse=True)\n",
    "print(f\"Las lunas de Júpiter son: {jupitermoons}\")"
   ]
  }
 ],
 "metadata": {
  "interpreter": {
   "hash": "e7370f93d1d0cde622a1f8e1c04877d8463912d04d973331ad4851f04de6915a"
  },
  "kernelspec": {
   "display_name": "Python 3.9.9 64-bit",
   "language": "python",
   "name": "python3"
  },
  "language_info": {
   "codemirror_mode": {
    "name": "ipython",
    "version": 3
   },
   "file_extension": ".py",
   "mimetype": "text/x-python",
   "name": "python",
   "nbconvert_exporter": "python",
   "pygments_lexer": "ipython3",
   "version": "3.9.9"
  },
  "orig_nbformat": 4
 },
 "nbformat": 4,
 "nbformat_minor": 2
}
