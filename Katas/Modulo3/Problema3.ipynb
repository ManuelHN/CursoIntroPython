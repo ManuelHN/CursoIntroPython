{
 "cells": [
  {
   "cell_type": "markdown",
   "metadata": {},
   "source": [
    "# Programa que alerta si un asteroide representa un peligro o pruduce una luz dependiendo de su tamaño y velocidad"
   ]
  },
  {
   "cell_type": "code",
   "execution_count": 18,
   "metadata": {},
   "outputs": [
    {
     "name": "stdout",
     "output_type": "stream",
     "text": [
      "Mira hacia el cielo, hay una luz brillante producida por un asteroide que se mueve a: 30 Km/s\n"
     ]
    }
   ],
   "source": [
    "tam_asteroide = 10 #también se puede usar: input('¿A qué velocidad va el asteroide?') #Nota: usar tipo str\n",
    "vel_asteroide = 30 #también se puede usar: input('¿A qué velocidad va el asteroide?') #Nota: usar tipo str\n",
    "if tam_asteroide >= 25 and vel_asteroide >= 25:\n",
    "    print('¡ALERTA! Un asteroide de', tam_asteroide, 'm entró a la tierra a una velocidad muy peligrosa:', vel_asteroide, 'Km/s')\n",
    "elif tam_asteroide >= 25:\n",
    "    print('¡ALERTA! Un peligroso asteroide de', tam_asteroide, 'm entró a la tierra a una velocidad de:', vel_asteroide, 'Km/s')\n",
    "elif vel_asteroide >= 20:\n",
    "    print('Mira hacia el cielo, hay una luz brillante producida por un asteroide que se mueve a:', vel_asteroide, 'Km/s')\n",
    "else:\n",
    "    print('Por el momento no hay alertas de asteroides :)')"
   ]
  }
 ],
 "metadata": {
  "interpreter": {
   "hash": "e7370f93d1d0cde622a1f8e1c04877d8463912d04d973331ad4851f04de6915a"
  },
  "kernelspec": {
   "display_name": "Python 3.9.9 64-bit",
   "language": "python",
   "name": "python3"
  },
  "language_info": {
   "codemirror_mode": {
    "name": "ipython",
    "version": 3
   },
   "file_extension": ".py",
   "mimetype": "text/x-python",
   "name": "python",
   "nbconvert_exporter": "python",
   "pygments_lexer": "ipython3",
   "version": "3.9.9"
  },
  "orig_nbformat": 4
 },
 "nbformat": 4,
 "nbformat_minor": 2
}
