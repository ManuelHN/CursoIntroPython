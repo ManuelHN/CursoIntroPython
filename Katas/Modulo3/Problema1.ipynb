{
 "cells": [
  {
   "cell_type": "markdown",
   "metadata": {},
   "source": [
    "# Programa que alerta si la velocidad de un asteroide excede 25KM/s"
   ]
  },
  {
   "cell_type": "code",
   "execution_count": 21,
   "metadata": {},
   "outputs": [
    {
     "name": "stdout",
     "output_type": "stream",
     "text": [
      "Alerta a toda la población, un asteroide entró a la tierra a una velocidad muy peligrosa: 49 Km/s\n"
     ]
    }
   ],
   "source": [
    "asteroide = 49 #también se puede usar: input('¿A qué velocidad va el asteroide?') #Nota: usar tipo str\n",
    "if asteroide >= 25:\n",
    "    print('Alerta a toda la población, un asteroide entró a la tierra a una velocidad muy peligrosa:', asteroide, 'Km/s')\n",
    "else:\n",
    "    print('No hay reporte de asteroides peligrosos entrando a la tierra por el momento.')"
   ]
  }
 ],
 "metadata": {
  "interpreter": {
   "hash": "e7370f93d1d0cde622a1f8e1c04877d8463912d04d973331ad4851f04de6915a"
  },
  "kernelspec": {
   "display_name": "Python 3.9.9 64-bit",
   "language": "python",
   "name": "python3"
  },
  "language_info": {
   "codemirror_mode": {
    "name": "ipython",
    "version": 3
   },
   "file_extension": ".py",
   "mimetype": "text/x-python",
   "name": "python",
   "nbconvert_exporter": "python",
   "pygments_lexer": "ipython3",
   "version": "3.9.9"
  },
  "orig_nbformat": 4
 },
 "nbformat": 4,
 "nbformat_minor": 2
}
